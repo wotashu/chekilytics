{
 "cells": [
  {
   "cell_type": "code",
   "execution_count": 1,
   "metadata": {},
   "outputs": [],
   "source": [
    "from streamlit_app import *"
   ]
  },
  {
   "cell_type": "code",
   "execution_count": 2,
   "id": "38264662",
   "metadata": {},
   "outputs": [],
   "source": [
    "import datetime\n",
    "from logging import exception\n",
    "from typing import List\n",
    "\n",
    "import gspread\n",
    "import numpy as np\n",
    "import pandas as pd\n",
    "import plotly.express as px\n",
    "import streamlit as st\n",
    "from google.oauth2 import service_account\n",
    "import matplotlib.colors as mcolors"
   ]
  },
  {
   "cell_type": "code",
   "execution_count": 30,
   "id": "fecbefed",
   "metadata": {},
   "outputs": [],
   "source": [
    "sheet_url = st.secrets[\"private_gsheets_url\"]\n",
    "df = get_worksheet(sheet_url, 0)"
   ]
  },
  {
   "cell_type": "code",
   "execution_count": 31,
   "id": "fc138363",
   "metadata": {},
   "outputs": [],
   "source": [
    "cheki_df = get_worksheet(sheet_url, 0)\n",
    "idol_df = get_worksheet(sheet_url, 1)\n",
    "venue_df = get_worksheet(sheet_url, 2)"
   ]
  },
  {
   "cell_type": "code",
   "execution_count": 32,
   "id": "99ae979d",
   "metadata": {},
   "outputs": [],
   "source": [
    "cheki_df['cheki_id'] = cheki_df.index"
   ]
  },
  {
   "cell_type": "code",
   "execution_count": 33,
   "id": "cfa56a34",
   "metadata": {},
   "outputs": [],
   "source": [
    "name_cols = [i for i in cheki_df.columns if \"Name\" in i]"
   ]
  },
  {
   "cell_type": "code",
   "execution_count": 34,
   "id": "2c85828b",
   "metadata": {},
   "outputs": [],
   "source": [
    "cheki_df['idol_count'] = cheki_df[name_cols].replace(\"\", np.nan).count(axis=1)"
   ]
  },
  {
   "cell_type": "code",
   "execution_count": 35,
   "id": "7f973367",
   "metadata": {},
   "outputs": [],
   "source": [
    "cheki_df.replace(\"\", np.nan, inplace=True)"
   ]
  },
  {
   "cell_type": "code",
   "execution_count": 36,
   "id": "b664eef9",
   "metadata": {},
   "outputs": [],
   "source": [
    "merged_df = pd.merge(cheki_df, venue_df, how=\"left\", left_on=\"Location\", right_on=\"Location\")"
   ]
  },
  {
   "cell_type": "code",
   "execution_count": 37,
   "id": "f24543d7",
   "metadata": {},
   "outputs": [],
   "source": [
    "group_location = pd.DataFrame(merged_df.groupby(\"Location\")[\"cheki_id\"].count().sort_values(ascending=False)).reset_index()"
   ]
  },
  {
   "cell_type": "code",
   "execution_count": 38,
   "id": "01c5b8f8",
   "metadata": {},
   "outputs": [
    {
     "data": {
      "text/html": [
       "<div>\n",
       "<style scoped>\n",
       "    .dataframe tbody tr th:only-of-type {\n",
       "        vertical-align: middle;\n",
       "    }\n",
       "\n",
       "    .dataframe tbody tr th {\n",
       "        vertical-align: top;\n",
       "    }\n",
       "\n",
       "    .dataframe thead th {\n",
       "        text-align: right;\n",
       "    }\n",
       "</style>\n",
       "<table border=\"1\" class=\"dataframe\">\n",
       "  <thead>\n",
       "    <tr style=\"text-align: right;\">\n",
       "      <th></th>\n",
       "      <th>Location</th>\n",
       "      <th>cheki_id</th>\n",
       "    </tr>\n",
       "  </thead>\n",
       "  <tbody>\n",
       "    <tr>\n",
       "      <th>0</th>\n",
       "      <td>新宿HEADPOWER</td>\n",
       "      <td>489</td>\n",
       "    </tr>\n",
       "    <tr>\n",
       "      <th>1</th>\n",
       "      <td>Tokyo Link's Hall</td>\n",
       "      <td>404</td>\n",
       "    </tr>\n",
       "    <tr>\n",
       "      <th>2</th>\n",
       "      <td>Cosmic Lab</td>\n",
       "      <td>338</td>\n",
       "    </tr>\n",
       "    <tr>\n",
       "      <th>3</th>\n",
       "      <td>郵送</td>\n",
       "      <td>227</td>\n",
       "    </tr>\n",
       "    <tr>\n",
       "      <th>4</th>\n",
       "      <td>池袋リヴォイス</td>\n",
       "      <td>160</td>\n",
       "    </tr>\n",
       "    <tr>\n",
       "      <th>5</th>\n",
       "      <td>池袋SOUND PEACE</td>\n",
       "      <td>159</td>\n",
       "    </tr>\n",
       "    <tr>\n",
       "      <th>6</th>\n",
       "      <td>Space Odd</td>\n",
       "      <td>94</td>\n",
       "    </tr>\n",
       "    <tr>\n",
       "      <th>7</th>\n",
       "      <td>Deseo Mini</td>\n",
       "      <td>85</td>\n",
       "    </tr>\n",
       "    <tr>\n",
       "      <th>8</th>\n",
       "      <td>赤羽レニーAlpha</td>\n",
       "      <td>78</td>\n",
       "    </tr>\n",
       "    <tr>\n",
       "      <th>9</th>\n",
       "      <td>Dr. Jeekhan's</td>\n",
       "      <td>74</td>\n",
       "    </tr>\n",
       "    <tr>\n",
       "      <th>10</th>\n",
       "      <td>Club Asia</td>\n",
       "      <td>57</td>\n",
       "    </tr>\n",
       "    <tr>\n",
       "      <th>11</th>\n",
       "      <td>Nagoya ReNY Limited</td>\n",
       "      <td>49</td>\n",
       "    </tr>\n",
       "    <tr>\n",
       "      <th>12</th>\n",
       "      <td>Batur Tokyo</td>\n",
       "      <td>47</td>\n",
       "    </tr>\n",
       "    <tr>\n",
       "      <th>13</th>\n",
       "      <td>五反田G+</td>\n",
       "      <td>47</td>\n",
       "    </tr>\n",
       "    <tr>\n",
       "      <th>14</th>\n",
       "      <td>K2</td>\n",
       "      <td>47</td>\n",
       "    </tr>\n",
       "    <tr>\n",
       "      <th>15</th>\n",
       "      <td>新宿SUNFACE</td>\n",
       "      <td>43</td>\n",
       "    </tr>\n",
       "    <tr>\n",
       "      <th>16</th>\n",
       "      <td>Chelsea Hotel</td>\n",
       "      <td>42</td>\n",
       "    </tr>\n",
       "    <tr>\n",
       "      <th>17</th>\n",
       "      <td>1000 Club</td>\n",
       "      <td>41</td>\n",
       "    </tr>\n",
       "    <tr>\n",
       "      <th>18</th>\n",
       "      <td>AKIBA COLORS</td>\n",
       "      <td>41</td>\n",
       "    </tr>\n",
       "    <tr>\n",
       "      <th>19</th>\n",
       "      <td>大塚Deepa</td>\n",
       "      <td>39</td>\n",
       "    </tr>\n",
       "  </tbody>\n",
       "</table>\n",
       "</div>"
      ],
      "text/plain": [
       "               Location  cheki_id\n",
       "0           新宿HEADPOWER       489\n",
       "1     Tokyo Link's Hall       404\n",
       "2            Cosmic Lab       338\n",
       "3                    郵送       227\n",
       "4               池袋リヴォイス       160\n",
       "5         池袋SOUND PEACE       159\n",
       "6             Space Odd        94\n",
       "7            Deseo Mini        85\n",
       "8            赤羽レニーAlpha        78\n",
       "9         Dr. Jeekhan's        74\n",
       "10            Club Asia        57\n",
       "11  Nagoya ReNY Limited        49\n",
       "12          Batur Tokyo        47\n",
       "13                五反田G+        47\n",
       "14                   K2        47\n",
       "15            新宿SUNFACE        43\n",
       "16        Chelsea Hotel        42\n",
       "17            1000 Club        41\n",
       "18         AKIBA COLORS        41\n",
       "19              大塚Deepa        39"
      ]
     },
     "execution_count": 38,
     "metadata": {},
     "output_type": "execute_result"
    }
   ],
   "source": [
    "group_location[:20]"
   ]
  },
  {
   "cell_type": "code",
   "execution_count": 42,
   "id": "9c947ff5",
   "metadata": {},
   "outputs": [
    {
     "data": {
      "text/plain": [
       "0                    新宿HEADPOWER\n",
       "1              Tokyo Link's Hall\n",
       "2                     Cosmic Lab\n",
       "3                             郵送\n",
       "4                        池袋リヴォイス\n",
       "                 ...            \n",
       "168                KFC Akihabara\n",
       "169    Bellesalle Shibuya Garden\n",
       "170                       池袋AKビル\n",
       "171         Zepp DiverCity Tokyo\n",
       "172                     ベルサール西新宿\n",
       "Name: Location, Length: 173, dtype: object"
      ]
     },
     "execution_count": 42,
     "metadata": {},
     "output_type": "execute_result"
    }
   ],
   "source": [
    "group_location['Location']"
   ]
  },
  {
   "cell_type": "code",
   "execution_count": null,
   "id": "0c061ee5",
   "metadata": {},
   "outputs": [],
   "source": []
  }
 ],
 "metadata": {
  "interpreter": {
   "hash": "f635d63fd294424e8c73940f8de19f1631853ac169aa9b153ffe3b455f2770f9"
  },
  "kernelspec": {
   "display_name": "Python 3.9.10 ('streamlit-cheki-5kyQcRg0-py3.9')",
   "language": "python",
   "name": "python3"
  },
  "language_info": {
   "codemirror_mode": {
    "name": "ipython",
    "version": 3
   },
   "file_extension": ".py",
   "mimetype": "text/x-python",
   "name": "python",
   "nbconvert_exporter": "python",
   "pygments_lexer": "ipython3",
   "version": "3.9.10"
  }
 },
 "nbformat": 4,
 "nbformat_minor": 5
}
